{
 "cells": [
  {
   "cell_type": "code",
   "execution_count": 20,
   "metadata": {},
   "outputs": [],
   "source": [
    "import tweepy\n",
    "import json\n",
    "\n",
    "# key for social_data_mining_18/19 @ammyblabla\n",
    "# consumer_key = 'Z0SBNRfeu2ILIGPkh92XYOjlG'\n",
    "# consumer_secret = 'eutGcIHzvi9KuFTnBDs4k6NsmoMQRfBYtmXPjm5IvW64Ziqyu1'\n",
    "# access_token = '145576185-KgDQBGa7dnawsSFH2BbQvC0wjUnKmHwQhSOFsUPm'\n",
    "# access_secret = 'Eu58gEjGmQAmMv0A6tDpfRs8gpVDarhr1lTurmaKgyq5H'\n",
    "\n",
    "# key for jupyter_learning @ammyblabla\n",
    "consumer_key = 'a4u9UHNzLpKoxXcXBMmanVDff'\n",
    "consumer_secret = '8RLbOKO9HukhrOT7pnefLYWxlFvSyBZ8qDcxToWpHinFwAh0Xy'\n",
    "access_token = '145576185-NxMFO3kRnRt9sNFP1RKZwArcGKa9G0eQPt8I0OYr'\n",
    "access_secret = 'bI44DN90woRg6Sqq0RDBgk15AywbgkC5IQOEwgJpXUn2A'\n",
    "\n",
    "#swap when reach limit\n",
    "\n",
    "# Creating the authentication object\n",
    "auth = tweepy.OAuthHandler(consumer_key, consumer_secret)\n",
    "# Setting your access token and secret\n",
    "auth.set_access_token(access_token, access_secret)\n",
    "\n",
    "# Creating the API object while passing in auth information\n",
    "api = tweepy.API(auth, parser=tweepy.parsers.JSONParser())"
   ]
  },
  {
   "cell_type": "code",
   "execution_count": 32,
   "metadata": {},
   "outputs": [],
   "source": [
    "def json_to_file(filename, data):\n",
    "    with open(filename, 'a') as outfile:\n",
    "        outfile.write(json.dumps(data))\n",
    "        outfile.write('\\n')\n",
    "    outfile.close()"
   ]
  },
  {
   "cell_type": "code",
   "execution_count": 33,
   "metadata": {},
   "outputs": [],
   "source": [
    "def json_list_to_file(filename, datum):\n",
    "    for data in datum:\n",
    "        json_to_file(filename, data)\n",
    "        with open(filename, 'a') as outfile:\n",
    "            outfile.close()"
   ]
  },
  {
   "cell_type": "code",
   "execution_count": 19,
   "metadata": {},
   "outputs": [],
   "source": [
    "# can also use with ids\n",
    "def get_users(screen_names, end=len(screen_name)):\n",
    "    users = []\n",
    "#     for screen_name in screen_names:\n",
    "    for i in range(end):\n",
    "        user = api.get_user(screen_names[i])\n",
    "        users.append(user)\n",
    "    return users"
   ]
  },
  {
   "cell_type": "code",
   "execution_count": 3,
   "metadata": {},
   "outputs": [],
   "source": [
    "def open_json_file(filename):\n",
    "    lines = []\n",
    "    with open(filename) as f:\n",
    "        lines = f.readlines()\n",
    "    f.close()\n",
    "    data = []\n",
    "    for line in lines:\n",
    "        temp= json.loads(line)\n",
    "        data.append(temp)\n",
    "    return data"
   ]
  },
  {
   "cell_type": "code",
   "execution_count": 10,
   "metadata": {},
   "outputs": [],
   "source": [
    "def get_follower(screen_name):\n",
    "    followers = results = api.followers_ids(screen_name=screen_name)\n",
    "    return followers"
   ]
  },
  {
   "cell_type": "code",
   "execution_count": 11,
   "metadata": {},
   "outputs": [],
   "source": [
    "sweat16_screen_names = ['Pada_Sweat16', 'Proud_Sweat16', \n",
    "                       'Ant_Sweat16', 'Petch_Sweat16', 'Ae_Sweat16', \n",
    "                       'anny_sweat16', 'MahnmookSweat16', 'Mint_Sweat16', \n",
    "                      'Pim_Sweat16', 'Sonja_Sweat16', 'Music_Sweat16', 'Fame_Sweat16', \n",
    "                       'Nink_Sweat16']"
   ]
  },
  {
   "cell_type": "code",
   "execution_count": 32,
   "metadata": {},
   "outputs": [],
   "source": [
    "# get sweat16 member's user\n",
    "sweat16_users = get_users(sweat16_screen_names)\n",
    "json_list_to_file('dataset/sweat16_users.json', sweat16_users)"
   ]
  },
  {
   "cell_type": "code",
   "execution_count": 27,
   "metadata": {},
   "outputs": [],
   "source": [
    "#get sweat16 members' followers data\n",
    "#for only one member\n",
    "def member_followers_users(screen_name):\n",
    "#         users = get_users(sweat16_followers[screen_name])\n",
    "        users = get_users(sweat16_followers[screen_name],end=100)\n",
    "        json_list_to_file('dataset/followers_' + screen_name + '.json', users)"
   ]
  },
  {
   "cell_type": "code",
   "execution_count": 45,
   "metadata": {},
   "outputs": [],
   "source": [
    "#get sweat16 members' followers data\n",
    "def members_followers_users():\n",
    "    for screen_name in sweat16_followers:\n",
    "        member_follwers_users(screen_name)"
   ]
  },
  {
   "cell_type": "code",
   "execution_count": 49,
   "metadata": {},
   "outputs": [],
   "source": [
    "def followers_to_file(filename, screen_name):\n",
    "    followers = get_follower(screen_name)\n",
    "    print('finish get followers')\n",
    "    json_to_file(filename,{screen_name: followers['ids']})    \n",
    "    print('finish write json to file')"
   ]
  },
  {
   "cell_type": "code",
   "execution_count": 52,
   "metadata": {},
   "outputs": [],
   "source": [
    "def get_members_follower():\n",
    "    for screen_name in sweat16_screen_names:\n",
    "        followers_to_file('sweat16_followers.json', screen_name)\n",
    "        print(f'already add {screen_name}')"
   ]
  },
  {
   "cell_type": "code",
   "execution_count": 53,
   "metadata": {},
   "outputs": [
    {
     "name": "stdout",
     "output_type": "stream",
     "text": [
      "finish get followers\n",
      "finish write json to file\n",
      "already add Pada_Sweat16\n",
      "finish get followers\n",
      "finish write json to file\n",
      "already add Proud_Sweat16\n",
      "finish get followers\n",
      "finish write json to file\n",
      "already add Ant_Sweat16\n",
      "finish get followers\n",
      "finish write json to file\n",
      "already add Petch_Sweat16\n",
      "finish get followers\n",
      "finish write json to file\n",
      "already add Ae_Sweat16\n",
      "finish get followers\n",
      "finish write json to file\n",
      "already add anny_sweat16\n",
      "finish get followers\n",
      "finish write json to file\n",
      "already add MahnmookSweat16\n",
      "finish get followers\n",
      "finish write json to file\n",
      "already add Mint_Sweat16\n",
      "finish get followers\n",
      "finish write json to file\n",
      "already add Pim_Sweat16\n",
      "finish get followers\n",
      "finish write json to file\n",
      "already add Sonja_Sweat16\n",
      "finish get followers\n",
      "finish write json to file\n",
      "already add Music_Sweat16\n",
      "finish get followers\n",
      "finish write json to file\n",
      "already add Fame_Sweat16\n",
      "finish get followers\n",
      "finish write json to file\n",
      "already add Nink_Sweat16\n"
     ]
    }
   ],
   "source": [
    "get_members_follower()"
   ]
  },
  {
   "cell_type": "code",
   "execution_count": 13,
   "metadata": {},
   "outputs": [],
   "source": [
    "#read dataset/sweat16_followers_id.json\n",
    "sweat16_followers_id_temp = open_json_file('dataset/sweat16_followers_id.json')\n",
    "sweat16_followers_id = {}\n",
    "for followers_id_dict in sweat16_followers_id_temp:\n",
    "    for screen_name in followers_id_dict:\n",
    "        sweat16_followers_id[screen_name] = followers_id_dict[screen_name]"
   ]
  },
  {
   "cell_type": "code",
   "execution_count": 22,
   "metadata": {},
   "outputs": [
    {
     "data": {
      "text/plain": [
       "100"
      ]
     },
     "execution_count": 22,
     "metadata": {},
     "output_type": "execute_result"
    }
   ],
   "source": [
    "ant_followers_user = get_users(sweat16_followers_id['Ant_Sweat16'],100)\n",
    "len(ant_followers_user)"
   ]
  },
  {
   "cell_type": "code",
   "execution_count": 34,
   "metadata": {},
   "outputs": [],
   "source": [
    "# json_to_file('ant_followers_user_100.json',ant_followers_user)    \n",
    "json_list_to_file('dataset/ant_followers_user_100.json', ant_followers_user)"
   ]
  },
  {
   "cell_type": "code",
   "execution_count": null,
   "metadata": {},
   "outputs": [],
   "source": []
  }
 ],
 "metadata": {
  "kernelspec": {
   "display_name": "Python 3",
   "language": "python",
   "name": "python3"
  },
  "language_info": {
   "codemirror_mode": {
    "name": "ipython",
    "version": 3
   },
   "file_extension": ".py",
   "mimetype": "text/x-python",
   "name": "python",
   "nbconvert_exporter": "python",
   "pygments_lexer": "ipython3",
   "version": "3.6.4"
  }
 },
 "nbformat": 4,
 "nbformat_minor": 2
}
